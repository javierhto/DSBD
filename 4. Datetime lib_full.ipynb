{
 "cells": [
  {
   "cell_type": "markdown",
   "metadata": {},
   "source": [
    "# How to work with dates"
   ]
  },
  {
   "cell_type": "markdown",
   "metadata": {},
   "source": [
    "[Datetime Library](https://docs.python.org/es/3/library/datetime.html)"
   ]
  },
  {
   "cell_type": "markdown",
   "metadata": {},
   "source": [
    "[Data Types](https://numpy.org/doc/stable/reference/arrays.dtypes.html)"
   ]
  },
  {
   "cell_type": "markdown",
   "metadata": {},
   "source": [
    "## Import library"
   ]
  },
  {
   "cell_type": "code",
   "execution_count": 6,
   "metadata": {},
   "outputs": [],
   "source": [
    "from datetime import datetime"
   ]
  },
  {
   "cell_type": "code",
   "execution_count": 3,
   "metadata": {},
   "outputs": [],
   "source": [
    "import numpy as np\n",
    "import pandas as pd \n",
    "import matplotlib.pyplot as plt"
   ]
  },
  {
   "cell_type": "code",
   "execution_count": null,
   "metadata": {},
   "outputs": [],
   "source": []
  },
  {
   "cell_type": "code",
   "execution_count": 7,
   "metadata": {
    "tags": []
   },
   "outputs": [
    {
     "name": "stdout",
     "output_type": "stream",
     "text": [
      "Help on class datetime in module datetime:\n",
      "\n",
      "class datetime(date)\n",
      " |  datetime(year, month, day[, hour[, minute[, second[, microsecond[,tzinfo]]]]])\n",
      " |  \n",
      " |  The year, month and day arguments are required. tzinfo may be None, or an\n",
      " |  instance of a tzinfo subclass. The remaining arguments may be ints.\n",
      " |  \n",
      " |  Method resolution order:\n",
      " |      datetime\n",
      " |      date\n",
      " |      builtins.object\n",
      " |  \n",
      " |  Methods defined here:\n",
      " |  \n",
      " |  __add__(self, value, /)\n",
      " |      Return self+value.\n",
      " |  \n",
      " |  __eq__(self, value, /)\n",
      " |      Return self==value.\n",
      " |  \n",
      " |  __ge__(self, value, /)\n",
      " |      Return self>=value.\n",
      " |  \n",
      " |  __getattribute__(self, name, /)\n",
      " |      Return getattr(self, name).\n",
      " |  \n",
      " |  __gt__(self, value, /)\n",
      " |      Return self>value.\n",
      " |  \n",
      " |  __hash__(self, /)\n",
      " |      Return hash(self).\n",
      " |  \n",
      " |  __le__(self, value, /)\n",
      " |      Return self<=value.\n",
      " |  \n",
      " |  __lt__(self, value, /)\n",
      " |      Return self<value.\n",
      " |  \n",
      " |  __ne__(self, value, /)\n",
      " |      Return self!=value.\n",
      " |  \n",
      " |  __radd__(self, value, /)\n",
      " |      Return value+self.\n",
      " |  \n",
      " |  __reduce__(...)\n",
      " |      __reduce__() -> (cls, state)\n",
      " |  \n",
      " |  __reduce_ex__(...)\n",
      " |      __reduce_ex__(proto) -> (cls, state)\n",
      " |  \n",
      " |  __repr__(self, /)\n",
      " |      Return repr(self).\n",
      " |  \n",
      " |  __rsub__(self, value, /)\n",
      " |      Return value-self.\n",
      " |  \n",
      " |  __str__(self, /)\n",
      " |      Return str(self).\n",
      " |  \n",
      " |  __sub__(self, value, /)\n",
      " |      Return self-value.\n",
      " |  \n",
      " |  astimezone(...)\n",
      " |      tz -> convert to local time in new timezone tz\n",
      " |  \n",
      " |  ctime(...)\n",
      " |      Return ctime() style string.\n",
      " |  \n",
      " |  date(...)\n",
      " |      Return date object with same year, month and day.\n",
      " |  \n",
      " |  dst(...)\n",
      " |      Return self.tzinfo.dst(self).\n",
      " |  \n",
      " |  isoformat(...)\n",
      " |      [sep] -> string in ISO 8601 format, YYYY-MM-DDT[HH[:MM[:SS[.mmm[uuu]]]]][+HH:MM].\n",
      " |      sep is used to separate the year from the time, and defaults to 'T'.\n",
      " |      The optional argument timespec specifies the number of additional terms\n",
      " |      of the time to include. Valid options are 'auto', 'hours', 'minutes',\n",
      " |      'seconds', 'milliseconds' and 'microseconds'.\n",
      " |  \n",
      " |  replace(...)\n",
      " |      Return datetime with new specified fields.\n",
      " |  \n",
      " |  time(...)\n",
      " |      Return time object with same time but with tzinfo=None.\n",
      " |  \n",
      " |  timestamp(...)\n",
      " |      Return POSIX timestamp as float.\n",
      " |  \n",
      " |  timetuple(...)\n",
      " |      Return time tuple, compatible with time.localtime().\n",
      " |  \n",
      " |  timetz(...)\n",
      " |      Return time object with same time and tzinfo.\n",
      " |  \n",
      " |  tzname(...)\n",
      " |      Return self.tzinfo.tzname(self).\n",
      " |  \n",
      " |  utcoffset(...)\n",
      " |      Return self.tzinfo.utcoffset(self).\n",
      " |  \n",
      " |  utctimetuple(...)\n",
      " |      Return UTC time tuple, compatible with time.localtime().\n",
      " |  \n",
      " |  ----------------------------------------------------------------------\n",
      " |  Class methods defined here:\n",
      " |  \n",
      " |  combine(...) from builtins.type\n",
      " |      date, time -> datetime with same date and time fields\n",
      " |  \n",
      " |  fromisoformat(...) from builtins.type\n",
      " |      string -> datetime from datetime.isoformat() output\n",
      " |  \n",
      " |  fromtimestamp(...) from builtins.type\n",
      " |      timestamp[, tz] -> tz's local time from POSIX timestamp.\n",
      " |  \n",
      " |  now(tz=None) from builtins.type\n",
      " |      Returns new datetime object representing current time local to tz.\n",
      " |      \n",
      " |        tz\n",
      " |          Timezone object.\n",
      " |      \n",
      " |      If no tz is specified, uses local timezone.\n",
      " |  \n",
      " |  strptime(...) from builtins.type\n",
      " |      string, format -> new datetime parsed from a string (like time.strptime()).\n",
      " |  \n",
      " |  utcfromtimestamp(...) from builtins.type\n",
      " |      Construct a naive UTC datetime from a POSIX timestamp.\n",
      " |  \n",
      " |  utcnow(...) from builtins.type\n",
      " |      Return a new datetime representing UTC day and time.\n",
      " |  \n",
      " |  ----------------------------------------------------------------------\n",
      " |  Static methods defined here:\n",
      " |  \n",
      " |  __new__(*args, **kwargs) from builtins.type\n",
      " |      Create and return a new object.  See help(type) for accurate signature.\n",
      " |  \n",
      " |  ----------------------------------------------------------------------\n",
      " |  Data descriptors defined here:\n",
      " |  \n",
      " |  fold\n",
      " |  \n",
      " |  hour\n",
      " |  \n",
      " |  microsecond\n",
      " |  \n",
      " |  minute\n",
      " |  \n",
      " |  second\n",
      " |  \n",
      " |  tzinfo\n",
      " |  \n",
      " |  ----------------------------------------------------------------------\n",
      " |  Data and other attributes defined here:\n",
      " |  \n",
      " |  max = datetime.datetime(9999, 12, 31, 23, 59, 59, 999999)\n",
      " |  \n",
      " |  min = datetime.datetime(1, 1, 1, 0, 0)\n",
      " |  \n",
      " |  resolution = datetime.timedelta(microseconds=1)\n",
      " |  \n",
      " |  ----------------------------------------------------------------------\n",
      " |  Methods inherited from date:\n",
      " |  \n",
      " |  __format__(...)\n",
      " |      Formats self with strftime.\n",
      " |  \n",
      " |  isocalendar(...)\n",
      " |      Return a 3-tuple containing ISO year, week number, and weekday.\n",
      " |  \n",
      " |  isoweekday(...)\n",
      " |      Return the day of the week represented by the date.\n",
      " |      Monday == 1 ... Sunday == 7\n",
      " |  \n",
      " |  strftime(...)\n",
      " |      format -> strftime() style string.\n",
      " |  \n",
      " |  toordinal(...)\n",
      " |      Return proleptic Gregorian ordinal.  January 1 of year 1 is day 1.\n",
      " |  \n",
      " |  weekday(...)\n",
      " |      Return the day of the week represented by the date.\n",
      " |      Monday == 0 ... Sunday == 6\n",
      " |  \n",
      " |  ----------------------------------------------------------------------\n",
      " |  Class methods inherited from date:\n",
      " |  \n",
      " |  fromisocalendar(...) from builtins.type\n",
      " |      int, int, int -> Construct a date from the ISO year, week number and weekday.\n",
      " |      \n",
      " |      This is the inverse of the date.isocalendar() function\n",
      " |  \n",
      " |  fromordinal(...) from builtins.type\n",
      " |      int -> date corresponding to a proleptic Gregorian ordinal.\n",
      " |  \n",
      " |  today(...) from builtins.type\n",
      " |      Current date or datetime:  same as self.__class__.fromtimestamp(time.time()).\n",
      " |  \n",
      " |  ----------------------------------------------------------------------\n",
      " |  Data descriptors inherited from date:\n",
      " |  \n",
      " |  day\n",
      " |  \n",
      " |  month\n",
      " |  \n",
      " |  year\n",
      "\n"
     ]
    }
   ],
   "source": [
    "help(datetime)"
   ]
  },
  {
   "cell_type": "code",
   "execution_count": null,
   "metadata": {},
   "outputs": [],
   "source": []
  },
  {
   "cell_type": "code",
   "execution_count": null,
   "metadata": {},
   "outputs": [],
   "source": []
  },
  {
   "cell_type": "markdown",
   "metadata": {},
   "source": [
    "## Create an array of dates with NumPy"
   ]
  },
  {
   "cell_type": "code",
   "execution_count": 2,
   "metadata": {},
   "outputs": [
    {
     "ename": "NameError",
     "evalue": "name 'np' is not defined",
     "output_type": "error",
     "traceback": [
      "\u001b[1;31m---------------------------------------------------------------------------\u001b[0m",
      "\u001b[1;31mNameError\u001b[0m                                 Traceback (most recent call last)",
      "\u001b[1;32m<ipython-input-2-23d30fa451d0>\u001b[0m in \u001b[0;36m<module>\u001b[1;34m\u001b[0m\n\u001b[1;32m----> 1\u001b[1;33m \u001b[0mdate_np\u001b[0m\u001b[1;33m=\u001b[0m\u001b[0mnp\u001b[0m\u001b[1;33m.\u001b[0m\u001b[0marray\u001b[0m\u001b[1;33m(\u001b[0m\u001b[1;34m'1955-11-05'\u001b[0m\u001b[1;33m)\u001b[0m\u001b[1;33m\u001b[0m\u001b[1;33m\u001b[0m\u001b[0m\n\u001b[0m\u001b[0;32m      2\u001b[0m \u001b[0mdate_np\u001b[0m\u001b[1;33m\u001b[0m\u001b[1;33m\u001b[0m\u001b[0m\n",
      "\u001b[1;31mNameError\u001b[0m: name 'np' is not defined"
     ]
    }
   ],
   "source": [
    "date_np=np.array('1955-11-05')\n",
    "date_np"
   ]
  },
  {
   "cell_type": "code",
   "execution_count": null,
   "metadata": {},
   "outputs": [],
   "source": []
  },
  {
   "cell_type": "code",
   "execution_count": 4,
   "metadata": {},
   "outputs": [
    {
     "ename": "UFuncTypeError",
     "evalue": "ufunc 'add' did not contain a loop with signature matching types (dtype('<U11'), dtype('<U11')) -> dtype('<U11')",
     "output_type": "error",
     "traceback": [
      "\u001b[1;31m---------------------------------------------------------------------------\u001b[0m",
      "\u001b[1;31mUFuncTypeError\u001b[0m                            Traceback (most recent call last)",
      "\u001b[1;32m<ipython-input-4-ab24456a2379>\u001b[0m in \u001b[0;36m<module>\u001b[1;34m\u001b[0m\n\u001b[1;32m----> 1\u001b[1;33m \u001b[0mdate_np\u001b[0m \u001b[1;33m+\u001b[0m\u001b[0mnp\u001b[0m\u001b[1;33m.\u001b[0m\u001b[0marange\u001b[0m\u001b[1;33m(\u001b[0m\u001b[1;36m100\u001b[0m\u001b[1;33m)\u001b[0m\u001b[1;33m\u001b[0m\u001b[1;33m\u001b[0m\u001b[0m\n\u001b[0m",
      "\u001b[1;31mUFuncTypeError\u001b[0m: ufunc 'add' did not contain a loop with signature matching types (dtype('<U11'), dtype('<U11')) -> dtype('<U11')"
     ]
    }
   ],
   "source": [
    "date_np +np.arange(100)"
   ]
  },
  {
   "cell_type": "code",
   "execution_count": 1,
   "metadata": {},
   "outputs": [
    {
     "ename": "NameError",
     "evalue": "name 'np' is not defined",
     "output_type": "error",
     "traceback": [
      "\u001b[1;31m---------------------------------------------------------------------------\u001b[0m",
      "\u001b[1;31mNameError\u001b[0m                                 Traceback (most recent call last)",
      "\u001b[1;32m<ipython-input-1-ecf51bd0747c>\u001b[0m in \u001b[0;36m<module>\u001b[1;34m\u001b[0m\n\u001b[1;32m----> 1\u001b[1;33m \u001b[0mdate_np\u001b[0m\u001b[1;33m=\u001b[0m\u001b[0mnp\u001b[0m\u001b[1;33m.\u001b[0m\u001b[0marray\u001b[0m\u001b[1;33m(\u001b[0m\u001b[1;34m'1955-11-05'\u001b[0m\u001b[1;33m,\u001b[0m\u001b[0mdtype\u001b[0m\u001b[1;33m=\u001b[0m\u001b[0mnp\u001b[0m\u001b[1;33m.\u001b[0m\u001b[0mdatetime64\u001b[0m\u001b[1;33m)\u001b[0m\u001b[1;33m\u001b[0m\u001b[1;33m\u001b[0m\u001b[0m\n\u001b[0m\u001b[0;32m      2\u001b[0m \u001b[0mdate_np\u001b[0m\u001b[1;33m\u001b[0m\u001b[1;33m\u001b[0m\u001b[0m\n",
      "\u001b[1;31mNameError\u001b[0m: name 'np' is not defined"
     ]
    }
   ],
   "source": [
    "date_np=np.array('1955-11-05',dtype=np.datetime64)\n",
    "date_np"
   ]
  },
  {
   "cell_type": "code",
   "execution_count": null,
   "metadata": {},
   "outputs": [],
   "source": []
  },
  {
   "cell_type": "code",
   "execution_count": 6,
   "metadata": {},
   "outputs": [],
   "source": [
    "dates_np=date_np+ np.arange(100)"
   ]
  },
  {
   "cell_type": "code",
   "execution_count": 7,
   "metadata": {},
   "outputs": [
    {
     "data": {
      "text/plain": [
       "array(['1955-11-05', '1955-11-06', '1955-11-07', '1955-11-08',\n",
       "       '1955-11-09', '1955-11-10', '1955-11-11', '1955-11-12',\n",
       "       '1955-11-13', '1955-11-14', '1955-11-15', '1955-11-16',\n",
       "       '1955-11-17', '1955-11-18', '1955-11-19', '1955-11-20',\n",
       "       '1955-11-21', '1955-11-22', '1955-11-23', '1955-11-24',\n",
       "       '1955-11-25', '1955-11-26', '1955-11-27', '1955-11-28',\n",
       "       '1955-11-29', '1955-11-30', '1955-12-01', '1955-12-02',\n",
       "       '1955-12-03', '1955-12-04', '1955-12-05', '1955-12-06',\n",
       "       '1955-12-07', '1955-12-08', '1955-12-09', '1955-12-10',\n",
       "       '1955-12-11', '1955-12-12', '1955-12-13', '1955-12-14',\n",
       "       '1955-12-15', '1955-12-16', '1955-12-17', '1955-12-18',\n",
       "       '1955-12-19', '1955-12-20', '1955-12-21', '1955-12-22',\n",
       "       '1955-12-23', '1955-12-24', '1955-12-25', '1955-12-26',\n",
       "       '1955-12-27', '1955-12-28', '1955-12-29', '1955-12-30',\n",
       "       '1955-12-31', '1956-01-01', '1956-01-02', '1956-01-03',\n",
       "       '1956-01-04', '1956-01-05', '1956-01-06', '1956-01-07',\n",
       "       '1956-01-08', '1956-01-09', '1956-01-10', '1956-01-11',\n",
       "       '1956-01-12', '1956-01-13', '1956-01-14', '1956-01-15',\n",
       "       '1956-01-16', '1956-01-17', '1956-01-18', '1956-01-19',\n",
       "       '1956-01-20', '1956-01-21', '1956-01-22', '1956-01-23',\n",
       "       '1956-01-24', '1956-01-25', '1956-01-26', '1956-01-27',\n",
       "       '1956-01-28', '1956-01-29', '1956-01-30', '1956-01-31',\n",
       "       '1956-02-01', '1956-02-02', '1956-02-03', '1956-02-04',\n",
       "       '1956-02-05', '1956-02-06', '1956-02-07', '1956-02-08',\n",
       "       '1956-02-09', '1956-02-10', '1956-02-11', '1956-02-12'],\n",
       "      dtype='datetime64[D]')"
      ]
     },
     "execution_count": 7,
     "metadata": {},
     "output_type": "execute_result"
    }
   ],
   "source": [
    "dates_np"
   ]
  },
  {
   "cell_type": "code",
   "execution_count": 8,
   "metadata": {},
   "outputs": [
    {
     "data": {
      "text/plain": [
       "array([datetime.date(1955, 11, 5), datetime.date(1955, 11, 6),\n",
       "       datetime.date(1955, 11, 7), datetime.date(1955, 11, 8),\n",
       "       datetime.date(1955, 11, 9), datetime.date(1955, 11, 10),\n",
       "       datetime.date(1955, 11, 11), datetime.date(1955, 11, 12),\n",
       "       datetime.date(1955, 11, 13), datetime.date(1955, 11, 14),\n",
       "       datetime.date(1955, 11, 15), datetime.date(1955, 11, 16),\n",
       "       datetime.date(1955, 11, 17), datetime.date(1955, 11, 18),\n",
       "       datetime.date(1955, 11, 19), datetime.date(1955, 11, 20),\n",
       "       datetime.date(1955, 11, 21), datetime.date(1955, 11, 22),\n",
       "       datetime.date(1955, 11, 23), datetime.date(1955, 11, 24),\n",
       "       datetime.date(1955, 11, 25), datetime.date(1955, 11, 26),\n",
       "       datetime.date(1955, 11, 27), datetime.date(1955, 11, 28),\n",
       "       datetime.date(1955, 11, 29), datetime.date(1955, 11, 30),\n",
       "       datetime.date(1955, 12, 1), datetime.date(1955, 12, 2),\n",
       "       datetime.date(1955, 12, 3), datetime.date(1955, 12, 4),\n",
       "       datetime.date(1955, 12, 5), datetime.date(1955, 12, 6),\n",
       "       datetime.date(1955, 12, 7), datetime.date(1955, 12, 8),\n",
       "       datetime.date(1955, 12, 9), datetime.date(1955, 12, 10),\n",
       "       datetime.date(1955, 12, 11), datetime.date(1955, 12, 12),\n",
       "       datetime.date(1955, 12, 13), datetime.date(1955, 12, 14),\n",
       "       datetime.date(1955, 12, 15), datetime.date(1955, 12, 16),\n",
       "       datetime.date(1955, 12, 17), datetime.date(1955, 12, 18),\n",
       "       datetime.date(1955, 12, 19), datetime.date(1955, 12, 20),\n",
       "       datetime.date(1955, 12, 21), datetime.date(1955, 12, 22),\n",
       "       datetime.date(1955, 12, 23), datetime.date(1955, 12, 24),\n",
       "       datetime.date(1955, 12, 25), datetime.date(1955, 12, 26),\n",
       "       datetime.date(1955, 12, 27), datetime.date(1955, 12, 28),\n",
       "       datetime.date(1955, 12, 29), datetime.date(1955, 12, 30),\n",
       "       datetime.date(1955, 12, 31), datetime.date(1956, 1, 1),\n",
       "       datetime.date(1956, 1, 2), datetime.date(1956, 1, 3),\n",
       "       datetime.date(1956, 1, 4), datetime.date(1956, 1, 5),\n",
       "       datetime.date(1956, 1, 6), datetime.date(1956, 1, 7),\n",
       "       datetime.date(1956, 1, 8), datetime.date(1956, 1, 9),\n",
       "       datetime.date(1956, 1, 10), datetime.date(1956, 1, 11),\n",
       "       datetime.date(1956, 1, 12), datetime.date(1956, 1, 13),\n",
       "       datetime.date(1956, 1, 14), datetime.date(1956, 1, 15),\n",
       "       datetime.date(1956, 1, 16), datetime.date(1956, 1, 17),\n",
       "       datetime.date(1956, 1, 18), datetime.date(1956, 1, 19),\n",
       "       datetime.date(1956, 1, 20), datetime.date(1956, 1, 21),\n",
       "       datetime.date(1956, 1, 22), datetime.date(1956, 1, 23),\n",
       "       datetime.date(1956, 1, 24), datetime.date(1956, 1, 25),\n",
       "       datetime.date(1956, 1, 26), datetime.date(1956, 1, 27),\n",
       "       datetime.date(1956, 1, 28), datetime.date(1956, 1, 29),\n",
       "       datetime.date(1956, 1, 30), datetime.date(1956, 1, 31),\n",
       "       datetime.date(1956, 2, 1), datetime.date(1956, 2, 2),\n",
       "       datetime.date(1956, 2, 3), datetime.date(1956, 2, 4),\n",
       "       datetime.date(1956, 2, 5), datetime.date(1956, 2, 6),\n",
       "       datetime.date(1956, 2, 7), datetime.date(1956, 2, 8),\n",
       "       datetime.date(1956, 2, 9), datetime.date(1956, 2, 10),\n",
       "       datetime.date(1956, 2, 11), datetime.date(1956, 2, 12)],\n",
       "      dtype=object)"
      ]
     },
     "execution_count": 8,
     "metadata": {},
     "output_type": "execute_result"
    }
   ],
   "source": [
    "dates_np_datetime=dates_np.astype(datetime)\n",
    "dates_np_datetime"
   ]
  },
  {
   "cell_type": "code",
   "execution_count": 9,
   "metadata": {},
   "outputs": [
    {
     "data": {
      "text/plain": [
       "array(['1955-11-05', '1955-11-06', '1955-11-07', '1955-11-08',\n",
       "       '1955-11-09', '1955-11-10', '1955-11-11', '1955-11-12',\n",
       "       '1955-11-13', '1955-11-14', '1955-11-15', '1955-11-16',\n",
       "       '1955-11-17', '1955-11-18', '1955-11-19', '1955-11-20',\n",
       "       '1955-11-21', '1955-11-22', '1955-11-23', '1955-11-24',\n",
       "       '1955-11-25', '1955-11-26', '1955-11-27', '1955-11-28',\n",
       "       '1955-11-29', '1955-11-30', '1955-12-01', '1955-12-02',\n",
       "       '1955-12-03', '1955-12-04', '1955-12-05', '1955-12-06',\n",
       "       '1955-12-07', '1955-12-08', '1955-12-09', '1955-12-10',\n",
       "       '1955-12-11', '1955-12-12', '1955-12-13', '1955-12-14',\n",
       "       '1955-12-15', '1955-12-16', '1955-12-17', '1955-12-18',\n",
       "       '1955-12-19', '1955-12-20', '1955-12-21', '1955-12-22',\n",
       "       '1955-12-23', '1955-12-24', '1955-12-25', '1955-12-26',\n",
       "       '1955-12-27', '1955-12-28', '1955-12-29', '1955-12-30',\n",
       "       '1955-12-31', '1956-01-01', '1956-01-02', '1956-01-03',\n",
       "       '1956-01-04', '1956-01-05', '1956-01-06', '1956-01-07',\n",
       "       '1956-01-08', '1956-01-09', '1956-01-10', '1956-01-11',\n",
       "       '1956-01-12', '1956-01-13', '1956-01-14', '1956-01-15',\n",
       "       '1956-01-16', '1956-01-17', '1956-01-18', '1956-01-19',\n",
       "       '1956-01-20', '1956-01-21', '1956-01-22', '1956-01-23',\n",
       "       '1956-01-24', '1956-01-25', '1956-01-26', '1956-01-27',\n",
       "       '1956-01-28', '1956-01-29', '1956-01-30', '1956-01-31',\n",
       "       '1956-02-01', '1956-02-02', '1956-02-03', '1956-02-04',\n",
       "       '1956-02-05', '1956-02-06', '1956-02-07', '1956-02-08',\n",
       "       '1956-02-09', '1956-02-10', '1956-02-11', '1956-02-12'],\n",
       "      dtype='<U28')"
      ]
     },
     "execution_count": 9,
     "metadata": {},
     "output_type": "execute_result"
    }
   ],
   "source": [
    "dates_str=dates_np.astype(str)\n",
    "dates_str"
   ]
  },
  {
   "cell_type": "markdown",
   "metadata": {},
   "source": [
    "## Function strftime"
   ]
  },
  {
   "cell_type": "code",
   "execution_count": 10,
   "metadata": {
    "collapsed": true,
    "jupyter": {
     "outputs_hidden": true
    }
   },
   "outputs": [
    {
     "ename": "TypeError",
     "evalue": "descriptor 'strftime' requires a 'datetime.date' object but received a 'numpy.str_'",
     "output_type": "error",
     "traceback": [
      "\u001b[1;31m---------------------------------------------------------------------------\u001b[0m",
      "\u001b[1;31mTypeError\u001b[0m                                 Traceback (most recent call last)",
      "\u001b[1;32m<ipython-input-10-51ae52c8a628>\u001b[0m in \u001b[0;36m<module>\u001b[1;34m\u001b[0m\n\u001b[0;32m      1\u001b[0m \u001b[1;32mfor\u001b[0m \u001b[0mi\u001b[0m \u001b[1;32min\u001b[0m \u001b[0mdates_str\u001b[0m\u001b[1;33m:\u001b[0m\u001b[1;33m\u001b[0m\u001b[1;33m\u001b[0m\u001b[0m\n\u001b[1;32m----> 2\u001b[1;33m     \u001b[0mprint\u001b[0m\u001b[1;33m(\u001b[0m\u001b[0mdatetime\u001b[0m\u001b[1;33m.\u001b[0m\u001b[0mstrftime\u001b[0m\u001b[1;33m(\u001b[0m\u001b[0mi\u001b[0m\u001b[1;33m,\u001b[0m\u001b[1;34m'%B %d %Y'\u001b[0m\u001b[1;33m)\u001b[0m\u001b[1;33m)\u001b[0m\u001b[1;33m\u001b[0m\u001b[1;33m\u001b[0m\u001b[0m\n\u001b[0m",
      "\u001b[1;31mTypeError\u001b[0m: descriptor 'strftime' requires a 'datetime.date' object but received a 'numpy.str_'"
     ]
    }
   ],
   "source": [
    "for i in dates_str:\n",
    "    print(datetime.strftime(i,'%B %d %Y'))"
   ]
  },
  {
   "cell_type": "code",
   "execution_count": 11,
   "metadata": {
    "collapsed": true,
    "jupyter": {
     "outputs_hidden": true
    }
   },
   "outputs": [
    {
     "ename": "TypeError",
     "evalue": "descriptor 'strftime' requires a 'datetime.date' object but received a 'numpy.str_'",
     "output_type": "error",
     "traceback": [
      "\u001b[1;31m---------------------------------------------------------------------------\u001b[0m",
      "\u001b[1;31mTypeError\u001b[0m                                 Traceback (most recent call last)",
      "\u001b[1;32m<ipython-input-11-4d7f3d62d1b1>\u001b[0m in \u001b[0;36m<module>\u001b[1;34m\u001b[0m\n\u001b[1;32m----> 1\u001b[1;33m \u001b[0mdates_str_strftime\u001b[0m\u001b[1;33m=\u001b[0m\u001b[1;33m[\u001b[0m\u001b[0mdatetime\u001b[0m\u001b[1;33m.\u001b[0m\u001b[0mstrftime\u001b[0m\u001b[1;33m(\u001b[0m\u001b[0mi\u001b[0m\u001b[1;33m,\u001b[0m\u001b[1;34m'%B %d %Y'\u001b[0m\u001b[1;33m)\u001b[0m \u001b[1;32mfor\u001b[0m \u001b[0mi\u001b[0m \u001b[1;32min\u001b[0m \u001b[0mdates_str\u001b[0m\u001b[1;33m]\u001b[0m\u001b[1;33m\u001b[0m\u001b[1;33m\u001b[0m\u001b[0m\n\u001b[0m\u001b[0;32m      2\u001b[0m \u001b[0mprint\u001b[0m\u001b[1;33m(\u001b[0m\u001b[0mdates_str_strftime\u001b[0m\u001b[1;33m)\u001b[0m\u001b[1;33m\u001b[0m\u001b[1;33m\u001b[0m\u001b[0m\n",
      "\u001b[1;32m<ipython-input-11-4d7f3d62d1b1>\u001b[0m in \u001b[0;36m<listcomp>\u001b[1;34m(.0)\u001b[0m\n\u001b[1;32m----> 1\u001b[1;33m \u001b[0mdates_str_strftime\u001b[0m\u001b[1;33m=\u001b[0m\u001b[1;33m[\u001b[0m\u001b[0mdatetime\u001b[0m\u001b[1;33m.\u001b[0m\u001b[0mstrftime\u001b[0m\u001b[1;33m(\u001b[0m\u001b[0mi\u001b[0m\u001b[1;33m,\u001b[0m\u001b[1;34m'%B %d %Y'\u001b[0m\u001b[1;33m)\u001b[0m \u001b[1;32mfor\u001b[0m \u001b[0mi\u001b[0m \u001b[1;32min\u001b[0m \u001b[0mdates_str\u001b[0m\u001b[1;33m]\u001b[0m\u001b[1;33m\u001b[0m\u001b[1;33m\u001b[0m\u001b[0m\n\u001b[0m\u001b[0;32m      2\u001b[0m \u001b[0mprint\u001b[0m\u001b[1;33m(\u001b[0m\u001b[0mdates_str_strftime\u001b[0m\u001b[1;33m)\u001b[0m\u001b[1;33m\u001b[0m\u001b[1;33m\u001b[0m\u001b[0m\n",
      "\u001b[1;31mTypeError\u001b[0m: descriptor 'strftime' requires a 'datetime.date' object but received a 'numpy.str_'"
     ]
    }
   ],
   "source": [
    "dates_str_strftime=[datetime.strftime(i,'%B %d %Y') for i in dates_str]\n",
    "print(dates_str_strftime)"
   ]
  },
  {
   "cell_type": "code",
   "execution_count": 12,
   "metadata": {
    "collapsed": true,
    "jupyter": {
     "outputs_hidden": true
    },
    "scrolled": true
   },
   "outputs": [
    {
     "ename": "TypeError",
     "evalue": "descriptor 'strftime' requires a 'datetime.date' object but received a 'numpy.datetime64'",
     "output_type": "error",
     "traceback": [
      "\u001b[1;31m---------------------------------------------------------------------------\u001b[0m",
      "\u001b[1;31mTypeError\u001b[0m                                 Traceback (most recent call last)",
      "\u001b[1;32m<ipython-input-12-cc34490019d2>\u001b[0m in \u001b[0;36m<module>\u001b[1;34m\u001b[0m\n\u001b[0;32m      1\u001b[0m \u001b[1;32mfor\u001b[0m \u001b[0mi\u001b[0m \u001b[1;32min\u001b[0m \u001b[0mdates_np\u001b[0m\u001b[1;33m:\u001b[0m\u001b[1;33m\u001b[0m\u001b[1;33m\u001b[0m\u001b[0m\n\u001b[1;32m----> 2\u001b[1;33m     \u001b[0mprint\u001b[0m\u001b[1;33m(\u001b[0m\u001b[0mdatetime\u001b[0m\u001b[1;33m.\u001b[0m\u001b[0mstrftime\u001b[0m\u001b[1;33m(\u001b[0m\u001b[0mi\u001b[0m\u001b[1;33m,\u001b[0m\u001b[1;34m'%B %d %Y'\u001b[0m\u001b[1;33m)\u001b[0m\u001b[1;33m)\u001b[0m\u001b[1;33m\u001b[0m\u001b[1;33m\u001b[0m\u001b[0m\n\u001b[0m",
      "\u001b[1;31mTypeError\u001b[0m: descriptor 'strftime' requires a 'datetime.date' object but received a 'numpy.datetime64'"
     ]
    }
   ],
   "source": [
    "for i in dates_np:\n",
    "    print(datetime.strftime(i,'%B %d %Y'))"
   ]
  },
  {
   "cell_type": "code",
   "execution_count": 13,
   "metadata": {},
   "outputs": [
    {
     "name": "stdout",
     "output_type": "stream",
     "text": [
      "November 05 1955\n",
      "November 06 1955\n",
      "November 07 1955\n",
      "November 08 1955\n",
      "November 09 1955\n",
      "November 10 1955\n",
      "November 11 1955\n",
      "November 12 1955\n",
      "November 13 1955\n",
      "November 14 1955\n",
      "November 15 1955\n",
      "November 16 1955\n",
      "November 17 1955\n",
      "November 18 1955\n",
      "November 19 1955\n",
      "November 20 1955\n",
      "November 21 1955\n",
      "November 22 1955\n",
      "November 23 1955\n",
      "November 24 1955\n",
      "November 25 1955\n",
      "November 26 1955\n",
      "November 27 1955\n",
      "November 28 1955\n",
      "November 29 1955\n",
      "November 30 1955\n",
      "December 01 1955\n",
      "December 02 1955\n",
      "December 03 1955\n",
      "December 04 1955\n",
      "December 05 1955\n",
      "December 06 1955\n",
      "December 07 1955\n",
      "December 08 1955\n",
      "December 09 1955\n",
      "December 10 1955\n",
      "December 11 1955\n",
      "December 12 1955\n",
      "December 13 1955\n",
      "December 14 1955\n",
      "December 15 1955\n",
      "December 16 1955\n",
      "December 17 1955\n",
      "December 18 1955\n",
      "December 19 1955\n",
      "December 20 1955\n",
      "December 21 1955\n",
      "December 22 1955\n",
      "December 23 1955\n",
      "December 24 1955\n",
      "December 25 1955\n",
      "December 26 1955\n",
      "December 27 1955\n",
      "December 28 1955\n",
      "December 29 1955\n",
      "December 30 1955\n",
      "December 31 1955\n",
      "January 01 1956\n",
      "January 02 1956\n",
      "January 03 1956\n",
      "January 04 1956\n",
      "January 05 1956\n",
      "January 06 1956\n",
      "January 07 1956\n",
      "January 08 1956\n",
      "January 09 1956\n",
      "January 10 1956\n",
      "January 11 1956\n",
      "January 12 1956\n",
      "January 13 1956\n",
      "January 14 1956\n",
      "January 15 1956\n",
      "January 16 1956\n",
      "January 17 1956\n",
      "January 18 1956\n",
      "January 19 1956\n",
      "January 20 1956\n",
      "January 21 1956\n",
      "January 22 1956\n",
      "January 23 1956\n",
      "January 24 1956\n",
      "January 25 1956\n",
      "January 26 1956\n",
      "January 27 1956\n",
      "January 28 1956\n",
      "January 29 1956\n",
      "January 30 1956\n",
      "January 31 1956\n",
      "February 01 1956\n",
      "February 02 1956\n",
      "February 03 1956\n",
      "February 04 1956\n",
      "February 05 1956\n",
      "February 06 1956\n",
      "February 07 1956\n",
      "February 08 1956\n",
      "February 09 1956\n",
      "February 10 1956\n",
      "February 11 1956\n",
      "February 12 1956\n"
     ]
    }
   ],
   "source": [
    "for i in dates_np_datetime:\n",
    "    print(datetime.strftime(i,'%B %d %Y'))"
   ]
  },
  {
   "cell_type": "code",
   "execution_count": 14,
   "metadata": {},
   "outputs": [
    {
     "data": {
      "text/plain": [
       "['November 05 1955',\n",
       " 'November 06 1955',\n",
       " 'November 07 1955',\n",
       " 'November 08 1955',\n",
       " 'November 09 1955',\n",
       " 'November 10 1955',\n",
       " 'November 11 1955',\n",
       " 'November 12 1955',\n",
       " 'November 13 1955',\n",
       " 'November 14 1955',\n",
       " 'November 15 1955',\n",
       " 'November 16 1955',\n",
       " 'November 17 1955',\n",
       " 'November 18 1955',\n",
       " 'November 19 1955',\n",
       " 'November 20 1955',\n",
       " 'November 21 1955',\n",
       " 'November 22 1955',\n",
       " 'November 23 1955',\n",
       " 'November 24 1955',\n",
       " 'November 25 1955',\n",
       " 'November 26 1955',\n",
       " 'November 27 1955',\n",
       " 'November 28 1955',\n",
       " 'November 29 1955',\n",
       " 'November 30 1955',\n",
       " 'December 01 1955',\n",
       " 'December 02 1955',\n",
       " 'December 03 1955',\n",
       " 'December 04 1955',\n",
       " 'December 05 1955',\n",
       " 'December 06 1955',\n",
       " 'December 07 1955',\n",
       " 'December 08 1955',\n",
       " 'December 09 1955',\n",
       " 'December 10 1955',\n",
       " 'December 11 1955',\n",
       " 'December 12 1955',\n",
       " 'December 13 1955',\n",
       " 'December 14 1955',\n",
       " 'December 15 1955',\n",
       " 'December 16 1955',\n",
       " 'December 17 1955',\n",
       " 'December 18 1955',\n",
       " 'December 19 1955',\n",
       " 'December 20 1955',\n",
       " 'December 21 1955',\n",
       " 'December 22 1955',\n",
       " 'December 23 1955',\n",
       " 'December 24 1955',\n",
       " 'December 25 1955',\n",
       " 'December 26 1955',\n",
       " 'December 27 1955',\n",
       " 'December 28 1955',\n",
       " 'December 29 1955',\n",
       " 'December 30 1955',\n",
       " 'December 31 1955',\n",
       " 'January 01 1956',\n",
       " 'January 02 1956',\n",
       " 'January 03 1956',\n",
       " 'January 04 1956',\n",
       " 'January 05 1956',\n",
       " 'January 06 1956',\n",
       " 'January 07 1956',\n",
       " 'January 08 1956',\n",
       " 'January 09 1956',\n",
       " 'January 10 1956',\n",
       " 'January 11 1956',\n",
       " 'January 12 1956',\n",
       " 'January 13 1956',\n",
       " 'January 14 1956',\n",
       " 'January 15 1956',\n",
       " 'January 16 1956',\n",
       " 'January 17 1956',\n",
       " 'January 18 1956',\n",
       " 'January 19 1956',\n",
       " 'January 20 1956',\n",
       " 'January 21 1956',\n",
       " 'January 22 1956',\n",
       " 'January 23 1956',\n",
       " 'January 24 1956',\n",
       " 'January 25 1956',\n",
       " 'January 26 1956',\n",
       " 'January 27 1956',\n",
       " 'January 28 1956',\n",
       " 'January 29 1956',\n",
       " 'January 30 1956',\n",
       " 'January 31 1956',\n",
       " 'February 01 1956',\n",
       " 'February 02 1956',\n",
       " 'February 03 1956',\n",
       " 'February 04 1956',\n",
       " 'February 05 1956',\n",
       " 'February 06 1956',\n",
       " 'February 07 1956',\n",
       " 'February 08 1956',\n",
       " 'February 09 1956',\n",
       " 'February 10 1956',\n",
       " 'February 11 1956',\n",
       " 'February 12 1956']"
      ]
     },
     "execution_count": 14,
     "metadata": {},
     "output_type": "execute_result"
    }
   ],
   "source": [
    "dates_datetime=[datetime.strftime(i,'%B %d %Y') for i in dates_np_datetime]\n",
    "dates_datetime"
   ]
  },
  {
   "cell_type": "markdown",
   "metadata": {},
   "source": [
    "## Datetime in Pandas"
   ]
  },
  {
   "cell_type": "code",
   "execution_count": 15,
   "metadata": {},
   "outputs": [],
   "source": [
    "values=np.random.rand(100)"
   ]
  },
  {
   "cell_type": "code",
   "execution_count": 16,
   "metadata": {},
   "outputs": [
    {
     "data": {
      "text/plain": [
       "array([0.75727205, 0.9509186 , 0.79013065, 0.95427426, 0.82347707,\n",
       "       0.41461925, 0.96294962, 0.0839595 , 0.51369413, 0.09637713,\n",
       "       0.55491445, 0.08216977, 0.13647299, 0.83994162, 0.31273046,\n",
       "       0.18346776, 0.88098278, 0.01252881, 0.41096161, 0.61506894,\n",
       "       0.37004342, 0.80521729, 0.7020891 , 0.40750002, 0.2220632 ,\n",
       "       0.25280985, 0.63500766, 0.13847248, 0.53021971, 0.04372473,\n",
       "       0.70454123, 0.52930931, 0.41011528, 0.89322113, 0.11283156,\n",
       "       0.5781973 , 0.76874511, 0.53738324, 0.22862617, 0.38935715,\n",
       "       0.00109683, 0.85575157, 0.43319379, 0.20392062, 0.0574821 ,\n",
       "       0.52884568, 0.50093797, 0.20045972, 0.42735196, 0.09872933,\n",
       "       0.01001037, 0.11378865, 0.70803324, 0.8735507 , 0.91679619,\n",
       "       0.11242802, 0.68336103, 0.23737186, 0.72218835, 0.56429906,\n",
       "       0.29889083, 0.94428578, 0.86188962, 0.75152348, 0.43391527,\n",
       "       0.57169304, 0.51549423, 0.73440229, 0.15825245, 0.32414343,\n",
       "       0.01487089, 0.98258002, 0.22727616, 0.72133002, 0.98166894,\n",
       "       0.8544223 , 0.27582134, 0.02748361, 0.81756022, 0.38029622,\n",
       "       0.90608127, 0.23409389, 0.46527614, 0.27178661, 0.73712639,\n",
       "       0.31745768, 0.22478651, 0.66288939, 0.42206636, 0.65615747,\n",
       "       0.06653612, 0.72430639, 0.97788283, 0.25941548, 0.45577617,\n",
       "       0.21640792, 0.2387408 , 0.54558256, 0.33721452, 0.76303873])"
      ]
     },
     "execution_count": 16,
     "metadata": {},
     "output_type": "execute_result"
    }
   ],
   "source": [
    "values"
   ]
  },
  {
   "cell_type": "code",
   "execution_count": 17,
   "metadata": {},
   "outputs": [
    {
     "data": {
      "text/html": [
       "<div>\n",
       "<style scoped>\n",
       "    .dataframe tbody tr th:only-of-type {\n",
       "        vertical-align: middle;\n",
       "    }\n",
       "\n",
       "    .dataframe tbody tr th {\n",
       "        vertical-align: top;\n",
       "    }\n",
       "\n",
       "    .dataframe thead th {\n",
       "        text-align: right;\n",
       "    }\n",
       "</style>\n",
       "<table border=\"1\" class=\"dataframe\">\n",
       "  <thead>\n",
       "    <tr style=\"text-align: right;\">\n",
       "      <th></th>\n",
       "      <th>Date</th>\n",
       "      <th>Values</th>\n",
       "    </tr>\n",
       "  </thead>\n",
       "  <tbody>\n",
       "    <tr>\n",
       "      <th>0</th>\n",
       "      <td>1955-11-05</td>\n",
       "      <td>0.757272</td>\n",
       "    </tr>\n",
       "    <tr>\n",
       "      <th>1</th>\n",
       "      <td>1955-11-06</td>\n",
       "      <td>0.950919</td>\n",
       "    </tr>\n",
       "    <tr>\n",
       "      <th>2</th>\n",
       "      <td>1955-11-07</td>\n",
       "      <td>0.790131</td>\n",
       "    </tr>\n",
       "    <tr>\n",
       "      <th>3</th>\n",
       "      <td>1955-11-08</td>\n",
       "      <td>0.954274</td>\n",
       "    </tr>\n",
       "    <tr>\n",
       "      <th>4</th>\n",
       "      <td>1955-11-09</td>\n",
       "      <td>0.823477</td>\n",
       "    </tr>\n",
       "    <tr>\n",
       "      <th>...</th>\n",
       "      <td>...</td>\n",
       "      <td>...</td>\n",
       "    </tr>\n",
       "    <tr>\n",
       "      <th>95</th>\n",
       "      <td>1956-02-08</td>\n",
       "      <td>0.216408</td>\n",
       "    </tr>\n",
       "    <tr>\n",
       "      <th>96</th>\n",
       "      <td>1956-02-09</td>\n",
       "      <td>0.238741</td>\n",
       "    </tr>\n",
       "    <tr>\n",
       "      <th>97</th>\n",
       "      <td>1956-02-10</td>\n",
       "      <td>0.545583</td>\n",
       "    </tr>\n",
       "    <tr>\n",
       "      <th>98</th>\n",
       "      <td>1956-02-11</td>\n",
       "      <td>0.337215</td>\n",
       "    </tr>\n",
       "    <tr>\n",
       "      <th>99</th>\n",
       "      <td>1956-02-12</td>\n",
       "      <td>0.763039</td>\n",
       "    </tr>\n",
       "  </tbody>\n",
       "</table>\n",
       "<p>100 rows × 2 columns</p>\n",
       "</div>"
      ],
      "text/plain": [
       "          Date    Values\n",
       "0   1955-11-05  0.757272\n",
       "1   1955-11-06  0.950919\n",
       "2   1955-11-07  0.790131\n",
       "3   1955-11-08  0.954274\n",
       "4   1955-11-09  0.823477\n",
       "..         ...       ...\n",
       "95  1956-02-08  0.216408\n",
       "96  1956-02-09  0.238741\n",
       "97  1956-02-10  0.545583\n",
       "98  1956-02-11  0.337215\n",
       "99  1956-02-12  0.763039\n",
       "\n",
       "[100 rows x 2 columns]"
      ]
     },
     "execution_count": 17,
     "metadata": {},
     "output_type": "execute_result"
    }
   ],
   "source": [
    "df_str=pd.DataFrame({'Date':dates_str,'Values':values})\n",
    "df_str"
   ]
  },
  {
   "cell_type": "code",
   "execution_count": 18,
   "metadata": {},
   "outputs": [
    {
     "data": {
      "text/plain": [
       "0     1955-11-05\n",
       "1     1955-11-06\n",
       "2     1955-11-07\n",
       "3     1955-11-08\n",
       "4     1955-11-09\n",
       "         ...    \n",
       "95    1956-02-08\n",
       "96    1956-02-09\n",
       "97    1956-02-10\n",
       "98    1956-02-11\n",
       "99    1956-02-12\n",
       "Name: Date, Length: 100, dtype: object"
      ]
     },
     "execution_count": 18,
     "metadata": {},
     "output_type": "execute_result"
    }
   ],
   "source": [
    "df_str.Date"
   ]
  },
  {
   "cell_type": "code",
   "execution_count": 19,
   "metadata": {},
   "outputs": [
    {
     "data": {
      "text/plain": [
       "0    1955-11-05\n",
       "1    1955-11-06\n",
       "2    1955-11-07\n",
       "3    1955-11-08\n",
       "4    1955-11-09\n",
       "        ...    \n",
       "95   1956-02-08\n",
       "96   1956-02-09\n",
       "97   1956-02-10\n",
       "98   1956-02-11\n",
       "99   1956-02-12\n",
       "Name: Date, Length: 100, dtype: datetime64[ns]"
      ]
     },
     "execution_count": 19,
     "metadata": {},
     "output_type": "execute_result"
    }
   ],
   "source": [
    "d_date=pd.to_datetime(df_str.Date)\n",
    "d_date"
   ]
  },
  {
   "cell_type": "code",
   "execution_count": 20,
   "metadata": {},
   "outputs": [
    {
     "data": {
      "text/html": [
       "<div>\n",
       "<style scoped>\n",
       "    .dataframe tbody tr th:only-of-type {\n",
       "        vertical-align: middle;\n",
       "    }\n",
       "\n",
       "    .dataframe tbody tr th {\n",
       "        vertical-align: top;\n",
       "    }\n",
       "\n",
       "    .dataframe thead th {\n",
       "        text-align: right;\n",
       "    }\n",
       "</style>\n",
       "<table border=\"1\" class=\"dataframe\">\n",
       "  <thead>\n",
       "    <tr style=\"text-align: right;\">\n",
       "      <th></th>\n",
       "      <th>Date</th>\n",
       "      <th>Values</th>\n",
       "    </tr>\n",
       "  </thead>\n",
       "  <tbody>\n",
       "    <tr>\n",
       "      <th>0</th>\n",
       "      <td>1955-11-05</td>\n",
       "      <td>0.757272</td>\n",
       "    </tr>\n",
       "    <tr>\n",
       "      <th>1</th>\n",
       "      <td>1955-11-06</td>\n",
       "      <td>0.950919</td>\n",
       "    </tr>\n",
       "    <tr>\n",
       "      <th>2</th>\n",
       "      <td>1955-11-07</td>\n",
       "      <td>0.790131</td>\n",
       "    </tr>\n",
       "    <tr>\n",
       "      <th>3</th>\n",
       "      <td>1955-11-08</td>\n",
       "      <td>0.954274</td>\n",
       "    </tr>\n",
       "    <tr>\n",
       "      <th>4</th>\n",
       "      <td>1955-11-09</td>\n",
       "      <td>0.823477</td>\n",
       "    </tr>\n",
       "    <tr>\n",
       "      <th>...</th>\n",
       "      <td>...</td>\n",
       "      <td>...</td>\n",
       "    </tr>\n",
       "    <tr>\n",
       "      <th>95</th>\n",
       "      <td>1956-02-08</td>\n",
       "      <td>0.216408</td>\n",
       "    </tr>\n",
       "    <tr>\n",
       "      <th>96</th>\n",
       "      <td>1956-02-09</td>\n",
       "      <td>0.238741</td>\n",
       "    </tr>\n",
       "    <tr>\n",
       "      <th>97</th>\n",
       "      <td>1956-02-10</td>\n",
       "      <td>0.545583</td>\n",
       "    </tr>\n",
       "    <tr>\n",
       "      <th>98</th>\n",
       "      <td>1956-02-11</td>\n",
       "      <td>0.337215</td>\n",
       "    </tr>\n",
       "    <tr>\n",
       "      <th>99</th>\n",
       "      <td>1956-02-12</td>\n",
       "      <td>0.763039</td>\n",
       "    </tr>\n",
       "  </tbody>\n",
       "</table>\n",
       "<p>100 rows × 2 columns</p>\n",
       "</div>"
      ],
      "text/plain": [
       "         Date    Values\n",
       "0  1955-11-05  0.757272\n",
       "1  1955-11-06  0.950919\n",
       "2  1955-11-07  0.790131\n",
       "3  1955-11-08  0.954274\n",
       "4  1955-11-09  0.823477\n",
       "..        ...       ...\n",
       "95 1956-02-08  0.216408\n",
       "96 1956-02-09  0.238741\n",
       "97 1956-02-10  0.545583\n",
       "98 1956-02-11  0.337215\n",
       "99 1956-02-12  0.763039\n",
       "\n",
       "[100 rows x 2 columns]"
      ]
     },
     "execution_count": 20,
     "metadata": {},
     "output_type": "execute_result"
    }
   ],
   "source": [
    "df_str['Date']=d_date\n",
    "df_str"
   ]
  },
  {
   "cell_type": "code",
   "execution_count": 23,
   "metadata": {},
   "outputs": [
    {
     "data": {
      "image/png": "[encoded data removed]",
      "text/plain": [
       "<Figure size 432x288 with 1 Axes>"
      ]
     },
     "metadata": {
      "needs_background": "light"
     },
     "output_type": "display_data"
    }
   ],
   "source": [
    "plt.plot(df_str.Date,df_str.Values)\n",
    "plt.xticks(rotation=90);"
   ]
  },
  {
   "cell_type": "code",
   "execution_count": 24,
   "metadata": {},
   "outputs": [
    {
     "data": {
      "image/png": "[encoded data removed]",
      "text/plain": [
       "<Figure size 432x288 with 1 Axes>"
      ]
     },
     "metadata": {
      "needs_background": "light"
     },
     "output_type": "display_data"
    }
   ],
   "source": [
    "df_np=pd.DataFrame({'Date':dates_np,'Values':values})\n",
    "plt.plot(df_np.Date,df_np.Values)\n",
    "plt.xticks(rotation=90);"
   ]
  },
  {
   "cell_type": "code",
   "execution_count": 25,
   "metadata": {},
   "outputs": [
    {
     "name": "stdout",
     "output_type": "stream",
     "text": [
      "<class 'pandas.core.frame.DataFrame'>\n",
      "RangeIndex: 100 entries, 0 to 99\n",
      "Data columns (total 2 columns):\n",
      " #   Column  Non-Null Count  Dtype         \n",
      "---  ------  --------------  -----         \n",
      " 0   Date    100 non-null    datetime64[ns]\n",
      " 1   Values  100 non-null    float64       \n",
      "dtypes: datetime64[ns](1), float64(1)\n",
      "memory usage: 1.7 KB\n"
     ]
    }
   ],
   "source": [
    "df_np.info()"
   ]
  },
  {
   "cell_type": "code",
   "execution_count": 26,
   "metadata": {},
   "outputs": [
    {
     "name": "stdout",
     "output_type": "stream",
     "text": [
      "<class 'pandas.core.frame.DataFrame'>\n",
      "RangeIndex: 100 entries, 0 to 99\n",
      "Data columns (total 2 columns):\n",
      " #   Column  Non-Null Count  Dtype         \n",
      "---  ------  --------------  -----         \n",
      " 0   Date    100 non-null    datetime64[ns]\n",
      " 1   Values  100 non-null    float64       \n",
      "dtypes: datetime64[ns](1), float64(1)\n",
      "memory usage: 1.7 KB\n"
     ]
    }
   ],
   "source": [
    "df_str.info()"
   ]
  }
 ],
 "metadata": {
  "hide_input": false,
  "kernelspec": {
   "display_name": "Python 3",
   "language": "python",
   "name": "python3"
  },
  "language_info": {
   "codemirror_mode": {
    "name": "ipython",
    "version": 3
   },
   "file_extension": ".py",
   "mimetype": "text/x-python",
   "name": "python",
   "nbconvert_exporter": "python",
   "pygments_lexer": "ipython3",
   "version": "3.8.8"
  },
  "toc": {
   "base_numbering": 1,
   "nav_menu": {},
   "number_sections": false,
   "sideBar": true,
   "skip_h1_title": false,
   "title_cell": "Table of Contents",
   "title_sidebar": "Contents",
   "toc_cell": false,
   "toc_position": {},
   "toc_section_display": true,
   "toc_window_display": false
  }
 },
 "nbformat": 4,
 "nbformat_minor": 4
}
